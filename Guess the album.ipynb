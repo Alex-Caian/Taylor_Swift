{
 "cells": [
  {
   "cell_type": "code",
   "execution_count": null,
   "id": "f4710529",
   "metadata": {},
   "outputs": [],
   "source": [
    "import matplotlib.pyplot as plt\n",
    "from matplotlib.offsetbox import OffsetImage, AnnotationBbox\n",
    "import matplotlib.image as mpimg\n",
    "import random\n",
    "from fuzzywuzzy import fuzz, process\n",
    "import time\n",
    "import os\n",
    "c = 99999"
   ]
  },
  {
   "cell_type": "code",
   "execution_count": null,
   "id": "3a8c2004",
   "metadata": {},
   "outputs": [],
   "source": [
    "albums = {'Taylor Swift':'#3EB489', 'Fearless':'#ddc477', 'Speak Now':'#d1b2d2',\n",
    "         'Red':'#FF0000', '1989':'#6fa8dc', 'Reputation':'#000000', 'Lover':'#E5679B',\n",
    "         'Folklore':'#808080', 'Evermore':'#994914', 'Midnights':'#000080'}\n",
    "\n",
    "\n",
    "# List of hexadecimal color codes for the squares\n",
    "selection = set(random.sample(list(albums.keys()), k=9))\n",
    "hex_colors = [albums[album] for album in selection]\n",
    "\n",
    "fig, ax = plt.subplots()\n",
    "for i, hex_color in enumerate(hex_colors):\n",
    "    row = i // 5  \n",
    "    col = i % 5  \n",
    "\n",
    "    x = 0.02 + col * 0.25  \n",
    "    y = 0.6 - row * 0.4 \n",
    "\n",
    "    square = plt.Rectangle((x, y), 0.2, 0.2, fill=True, color=hex_color)\n",
    "    ax.add_patch(square)\n",
    "\n",
    "ax.set_aspect('equal')\n",
    "ax.set_xticks([])\n",
    "ax.set_yticks([])\n",
    "ax.set_xlim(0, 1.25)\n",
    "custom_image = mpimg.imread(\"https://github.com/Alex-Caian/Taylor_Swift/blob/main/Images/question.png?raw=True\")  # Replace with the path to your image\n",
    "\n",
    "# Add the custom image as a patch to one of the squares\n",
    "custom_patch = OffsetImage(custom_image, zoom=0.08)\n",
    "ab = AnnotationBbox(custom_patch, (1.13, 0.3), frameon=False)\n",
    "ax.add_artist(ab)\n",
    "\n",
    "plt.show()\n",
    "\n",
    "answer = list(set(albums.keys()) - selection)[0]\n",
    "\n",
    "now = time.time()\n",
    "n = input(\"Which album is missing?:  \")\n",
    "choices = set(albums.keys())\n",
    "similarities = [fuzz.ratio(n, choice) for choice in choices]\n",
    "best_match = process.extractOne(n, choices)[0]\n",
    "if best_match == answer:\n",
    "    print(f\"Well done! The answer was {answer}\")\n",
    "else:\n",
    "    print(f\"Nope! The answer was {answer}\")\n",
    "end = time.time() - now\n",
    "# print(f\"Your time was: {round(end,2)}\")\n",
    "c = min(c, end)\n",
    "if c==end and best_match == answer:\n",
    "    print(f\"New Best Score! You solved it in: {round(c,2)} seconds.\")"
   ]
  }
 ],
 "metadata": {
  "kernelspec": {
   "display_name": "Python 3 (ipykernel)",
   "language": "python",
   "name": "python3"
  },
  "language_info": {
   "codemirror_mode": {
    "name": "ipython",
    "version": 3
   },
   "file_extension": ".py",
   "mimetype": "text/x-python",
   "name": "python",
   "nbconvert_exporter": "python",
   "pygments_lexer": "ipython3",
   "version": "3.9.17"
  }
 },
 "nbformat": 4,
 "nbformat_minor": 5
}
